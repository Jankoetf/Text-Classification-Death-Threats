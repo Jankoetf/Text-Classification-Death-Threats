{
  "nbformat": 4,
  "nbformat_minor": 0,
  "metadata": {
    "colab": {
      "provenance": [],
      "machine_shape": "hm"
    },
    "kernelspec": {
      "name": "python3",
      "display_name": "Python 3"
    },
    "language_info": {
      "name": "python"
    }
  },
  "cells": [
    {
      "cell_type": "markdown",
      "metadata": {
        "id": "CLvFPBiP6apT"
      },
      "source": [
        "# Import"
      ]
    },
    {
      "cell_type": "code",
      "execution_count": null,
      "metadata": {
        "id": "2iQ5Db3hW-kz"
      },
      "outputs": [],
      "source": [
        "!pip install -q transformers torch"
      ]
    },
    {
      "cell_type": "code",
      "source": [
        "from transformers import Trainer, TrainingArguments, AutoTokenizer, BertForSequenceClassification\n",
        "import torch"
      ],
      "metadata": {
        "id": "uw2kEFZoXRw6"
      },
      "execution_count": null,
      "outputs": []
    },
    {
      "cell_type": "markdown",
      "source": [
        "# Bert base"
      ],
      "metadata": {
        "id": "22HsxVGQXfQq"
      }
    },
    {
      "cell_type": "code",
      "source": [
        "base_model_checkpoint = \"bert-base-uncased\"\n",
        "bertic_model_checkpoint = \"classla/bcms-bertic\""
      ],
      "metadata": {
        "id": "5qKrzSZ5XlmT"
      },
      "execution_count": null,
      "outputs": []
    },
    {
      "cell_type": "code",
      "source": [
        "bert_base_model = BertForSequenceClassification.from_pretrained(base_model_checkpoint, num_labels=2)\n",
        "base_tokenizer = AutoTokenizer.from_pretrained(base_model_checkpoint)\n",
        "\n",
        "# Ispis broja parametara\n",
        "total_params = sum(p.numel() for p in bert_base_model.parameters())\n",
        "trainable_params = sum(p.numel() for p in bert_base_model.parameters() if p.requires_grad)\n",
        "print(f\"Ukupan broj parametara: {total_params}\")\n",
        "print(f\"Broj trenirajućih parametara: {trainable_params}\")\n",
        "\n",
        "# Ispis strukture modela\n",
        "for name, param in bert_base_model.named_parameters():\n",
        "    print(f\"Sloj: {name} | Veličina: {param.shape}\")\n",
        "\n",
        "# Ispis slojeva modela\n",
        "for name, module in bert_base_model.named_modules():\n",
        "    print(name)"
      ],
      "metadata": {
        "id": "nbnS5LS9QJIW"
      },
      "execution_count": null,
      "outputs": []
    },
    {
      "cell_type": "code",
      "source": [
        "inverse_vocab_base = {}\n",
        "for token, token_id in list(base_tokenizer.vocab.items()):\n",
        "    inverse_vocab_base[token_id] = token\n",
        "\n",
        "for token, token_id in list(base_tokenizer.vocab.items())[:30]:\n",
        "    inverse_vocab_base[token_id] = token\n",
        "    print(\"ID tokena: \", token_id, \"token: \", token)\n",
        "\n",
        "for index in range(2130,2160):\n",
        "    print(f\"Token: {inverse_vocab_base[index]}, ID: {index}\")\n",
        "\n",
        "for index in range(30):\n",
        "    print(f\"Token: {inverse_vocab_base[index]}, ID: {index}\")"
      ],
      "metadata": {
        "colab": {
          "base_uri": "https://localhost:8080/"
        },
        "id": "t5aKOPJ88zgx",
        "outputId": "1bdc967d-034f-4a79-9406-7342b9c111e4"
      },
      "execution_count": null,
      "outputs": [
        {
          "output_type": "stream",
          "name": "stdout",
          "text": [
            "ID tokena:  29188 token:  rustling\n",
            "ID tokena:  13025 token:  grocery\n",
            "ID tokena:  14267 token:  proportional\n",
            "ID tokena:  17248 token:  cites\n",
            "ID tokena:  20993 token:  melvin\n",
            "ID tokena:  6171 token:  deeply\n",
            "ID tokena:  21295 token:  streaks\n",
            "ID tokena:  29615 token:  ##$\n",
            "ID tokena:  18436 token:  ##cious\n",
            "ID tokena:  19646 token:  ##tl\n",
            "ID tokena:  21342 token:  sbs\n",
            "ID tokena:  22445 token:  spacious\n",
            "ID tokena:  1332 token:  य\n",
            "ID tokena:  23311 token:  buys\n",
            "ID tokena:  22602 token:  interrupting\n",
            "ID tokena:  25043 token:  roast\n",
            "ID tokena:  417 token:  [unused412]\n",
            "ID tokena:  3829 token:  kitchen\n",
            "ID tokena:  17298 token:  ##lau\n",
            "ID tokena:  16711 token:  catalonia\n",
            "ID tokena:  16928 token:  occupational\n",
            "ID tokena:  7091 token:  conclusion\n",
            "ID tokena:  7959 token:  ##fe\n",
            "ID tokena:  21978 token:  narrowing\n",
            "ID tokena:  2475 token:  ##2\n",
            "ID tokena:  10668 token:  sip\n",
            "ID tokena:  12318 token:  treating\n",
            "ID tokena:  17094 token:  bahamas\n",
            "ID tokena:  27885 token:  ob\n",
            "ID tokena:  29695 token:  ##ʂ\n",
            "Token: even, ID: 2130\n",
            "Token: get, ID: 2131\n",
            "Token: head, ID: 2132\n",
            "Token: ..., ID: 2133\n",
            "Token: didn, ID: 2134\n",
            "Token: ##ly, ID: 2135\n",
            "Token: team, ID: 2136\n",
            "Token: american, ID: 2137\n",
            "Token: because, ID: 2138\n",
            "Token: de, ID: 2139\n",
            "Token: ##l, ID: 2140\n",
            "Token: born, ID: 2141\n",
            "Token: united, ID: 2142\n",
            "Token: film, ID: 2143\n",
            "Token: since, ID: 2144\n",
            "Token: still, ID: 2145\n",
            "Token: long, ID: 2146\n",
            "Token: work, ID: 2147\n",
            "Token: south, ID: 2148\n",
            "Token: us, ID: 2149\n",
            "Token: became, ID: 2150\n",
            "Token: any, ID: 2151\n",
            "Token: high, ID: 2152\n",
            "Token: again, ID: 2153\n",
            "Token: day, ID: 2154\n",
            "Token: family, ID: 2155\n",
            "Token: see, ID: 2156\n",
            "Token: right, ID: 2157\n",
            "Token: man, ID: 2158\n",
            "Token: eyes, ID: 2159\n",
            "Token: [PAD], ID: 0\n",
            "Token: [unused0], ID: 1\n",
            "Token: [unused1], ID: 2\n",
            "Token: [unused2], ID: 3\n",
            "Token: [unused3], ID: 4\n",
            "Token: [unused4], ID: 5\n",
            "Token: [unused5], ID: 6\n",
            "Token: [unused6], ID: 7\n",
            "Token: [unused7], ID: 8\n",
            "Token: [unused8], ID: 9\n",
            "Token: [unused9], ID: 10\n",
            "Token: [unused10], ID: 11\n",
            "Token: [unused11], ID: 12\n",
            "Token: [unused12], ID: 13\n",
            "Token: [unused13], ID: 14\n",
            "Token: [unused14], ID: 15\n",
            "Token: [unused15], ID: 16\n",
            "Token: [unused16], ID: 17\n",
            "Token: [unused17], ID: 18\n",
            "Token: [unused18], ID: 19\n",
            "Token: [unused19], ID: 20\n",
            "Token: [unused20], ID: 21\n",
            "Token: [unused21], ID: 22\n",
            "Token: [unused22], ID: 23\n",
            "Token: [unused23], ID: 24\n",
            "Token: [unused24], ID: 25\n",
            "Token: [unused25], ID: 26\n",
            "Token: [unused26], ID: 27\n",
            "Token: [unused27], ID: 28\n",
            "Token: [unused28], ID: 29\n"
          ]
        }
      ]
    },
    {
      "cell_type": "code",
      "source": [
        "text = \"Hello, how are you doing today?\"\n",
        "\n",
        "# Tokenizacija teksta\n",
        "tokens = base_tokenizer.tokenize(text)\n",
        "token_ids = base_tokenizer.convert_tokens_to_ids(tokens)\n",
        "\n",
        "print(f\"Originalni tekst: {text}\")\n",
        "print(f\"Tokeni: {tokens}\")\n",
        "print(f\"Tokeni (kao ID-ovi): {token_ids}\")"
      ],
      "metadata": {
        "colab": {
          "base_uri": "https://localhost:8080/"
        },
        "id": "qStC1sN88_8w",
        "outputId": "ccfae6bd-8106-4dcd-a434-139553dd5c27"
      },
      "execution_count": null,
      "outputs": [
        {
          "output_type": "stream",
          "name": "stdout",
          "text": [
            "Originalni tekst: Hello, how are you doing today?\n",
            "Tokeni: ['hello', ',', 'how', 'are', 'you', 'doing', 'today', '?']\n",
            "Tokeni (kao ID-ovi): [7592, 1010, 2129, 2024, 2017, 2725, 2651, 1029]\n"
          ]
        }
      ]
    },
    {
      "cell_type": "code",
      "source": [
        "print(\"Length: \", len(base_tokenizer.vocab.items()))"
      ],
      "metadata": {
        "colab": {
          "base_uri": "https://localhost:8080/"
        },
        "id": "mc08DGTOFavS",
        "outputId": "b8af2adc-dfef-4560-b855-600d8b272aa3"
      },
      "execution_count": null,
      "outputs": [
        {
          "output_type": "stream",
          "name": "stdout",
          "text": [
            "Length:  30522\n"
          ]
        }
      ]
    },
    {
      "cell_type": "code",
      "source": [
        "from transformers import AutoTokenizer, BertForSequenceClassification\n",
        "import torch\n",
        "\n",
        "bertic_model_checkpoint = \"classla/bcms-bertic\"\n",
        "bertic_model = BertForSequenceClassification.from_pretrained(bertic_model_checkpoint, num_labels=2)\n",
        "bertic_tokenizer = AutoTokenizer.from_pretrained(bertic_model_checkpoint)"
      ],
      "metadata": {
        "id": "K-P8CW2R9BQo"
      },
      "execution_count": null,
      "outputs": []
    },
    {
      "cell_type": "code",
      "source": [
        "# Ispis strukture modela\n",
        "for name, param in bertic_model.named_parameters():\n",
        "    print(f\"Sloj: {name} | Veličina: {param.shape}\")"
      ],
      "metadata": {
        "colab": {
          "base_uri": "https://localhost:8080/"
        },
        "id": "42iOAXgEFMnj",
        "outputId": "d27b2ff0-d46a-4a89-edbf-0076b2e421f1"
      },
      "execution_count": null,
      "outputs": [
        {
          "output_type": "stream",
          "name": "stdout",
          "text": [
            "Sloj: bert.embeddings.word_embeddings.weight | Veličina: torch.Size([32000, 768])\n",
            "Sloj: bert.embeddings.position_embeddings.weight | Veličina: torch.Size([512, 768])\n",
            "Sloj: bert.embeddings.token_type_embeddings.weight | Veličina: torch.Size([2, 768])\n",
            "Sloj: bert.embeddings.LayerNorm.weight | Veličina: torch.Size([768])\n",
            "Sloj: bert.embeddings.LayerNorm.bias | Veličina: torch.Size([768])\n",
            "Sloj: bert.encoder.layer.0.attention.self.query.weight | Veličina: torch.Size([768, 768])\n",
            "Sloj: bert.encoder.layer.0.attention.self.query.bias | Veličina: torch.Size([768])\n",
            "Sloj: bert.encoder.layer.0.attention.self.key.weight | Veličina: torch.Size([768, 768])\n",
            "Sloj: bert.encoder.layer.0.attention.self.key.bias | Veličina: torch.Size([768])\n",
            "Sloj: bert.encoder.layer.0.attention.self.value.weight | Veličina: torch.Size([768, 768])\n",
            "Sloj: bert.encoder.layer.0.attention.self.value.bias | Veličina: torch.Size([768])\n",
            "Sloj: bert.encoder.layer.0.attention.output.dense.weight | Veličina: torch.Size([768, 768])\n",
            "Sloj: bert.encoder.layer.0.attention.output.dense.bias | Veličina: torch.Size([768])\n",
            "Sloj: bert.encoder.layer.0.attention.output.LayerNorm.weight | Veličina: torch.Size([768])\n",
            "Sloj: bert.encoder.layer.0.attention.output.LayerNorm.bias | Veličina: torch.Size([768])\n",
            "Sloj: bert.encoder.layer.0.intermediate.dense.weight | Veličina: torch.Size([3072, 768])\n",
            "Sloj: bert.encoder.layer.0.intermediate.dense.bias | Veličina: torch.Size([3072])\n",
            "Sloj: bert.encoder.layer.0.output.dense.weight | Veličina: torch.Size([768, 3072])\n",
            "Sloj: bert.encoder.layer.0.output.dense.bias | Veličina: torch.Size([768])\n",
            "Sloj: bert.encoder.layer.0.output.LayerNorm.weight | Veličina: torch.Size([768])\n",
            "Sloj: bert.encoder.layer.0.output.LayerNorm.bias | Veličina: torch.Size([768])\n",
            "Sloj: bert.encoder.layer.1.attention.self.query.weight | Veličina: torch.Size([768, 768])\n",
            "Sloj: bert.encoder.layer.1.attention.self.query.bias | Veličina: torch.Size([768])\n",
            "Sloj: bert.encoder.layer.1.attention.self.key.weight | Veličina: torch.Size([768, 768])\n",
            "Sloj: bert.encoder.layer.1.attention.self.key.bias | Veličina: torch.Size([768])\n",
            "Sloj: bert.encoder.layer.1.attention.self.value.weight | Veličina: torch.Size([768, 768])\n",
            "Sloj: bert.encoder.layer.1.attention.self.value.bias | Veličina: torch.Size([768])\n",
            "Sloj: bert.encoder.layer.1.attention.output.dense.weight | Veličina: torch.Size([768, 768])\n",
            "Sloj: bert.encoder.layer.1.attention.output.dense.bias | Veličina: torch.Size([768])\n",
            "Sloj: bert.encoder.layer.1.attention.output.LayerNorm.weight | Veličina: torch.Size([768])\n",
            "Sloj: bert.encoder.layer.1.attention.output.LayerNorm.bias | Veličina: torch.Size([768])\n",
            "Sloj: bert.encoder.layer.1.intermediate.dense.weight | Veličina: torch.Size([3072, 768])\n",
            "Sloj: bert.encoder.layer.1.intermediate.dense.bias | Veličina: torch.Size([3072])\n",
            "Sloj: bert.encoder.layer.1.output.dense.weight | Veličina: torch.Size([768, 3072])\n",
            "Sloj: bert.encoder.layer.1.output.dense.bias | Veličina: torch.Size([768])\n",
            "Sloj: bert.encoder.layer.1.output.LayerNorm.weight | Veličina: torch.Size([768])\n",
            "Sloj: bert.encoder.layer.1.output.LayerNorm.bias | Veličina: torch.Size([768])\n",
            "Sloj: bert.encoder.layer.2.attention.self.query.weight | Veličina: torch.Size([768, 768])\n",
            "Sloj: bert.encoder.layer.2.attention.self.query.bias | Veličina: torch.Size([768])\n",
            "Sloj: bert.encoder.layer.2.attention.self.key.weight | Veličina: torch.Size([768, 768])\n",
            "Sloj: bert.encoder.layer.2.attention.self.key.bias | Veličina: torch.Size([768])\n",
            "Sloj: bert.encoder.layer.2.attention.self.value.weight | Veličina: torch.Size([768, 768])\n",
            "Sloj: bert.encoder.layer.2.attention.self.value.bias | Veličina: torch.Size([768])\n",
            "Sloj: bert.encoder.layer.2.attention.output.dense.weight | Veličina: torch.Size([768, 768])\n",
            "Sloj: bert.encoder.layer.2.attention.output.dense.bias | Veličina: torch.Size([768])\n",
            "Sloj: bert.encoder.layer.2.attention.output.LayerNorm.weight | Veličina: torch.Size([768])\n",
            "Sloj: bert.encoder.layer.2.attention.output.LayerNorm.bias | Veličina: torch.Size([768])\n",
            "Sloj: bert.encoder.layer.2.intermediate.dense.weight | Veličina: torch.Size([3072, 768])\n",
            "Sloj: bert.encoder.layer.2.intermediate.dense.bias | Veličina: torch.Size([3072])\n",
            "Sloj: bert.encoder.layer.2.output.dense.weight | Veličina: torch.Size([768, 3072])\n",
            "Sloj: bert.encoder.layer.2.output.dense.bias | Veličina: torch.Size([768])\n",
            "Sloj: bert.encoder.layer.2.output.LayerNorm.weight | Veličina: torch.Size([768])\n",
            "Sloj: bert.encoder.layer.2.output.LayerNorm.bias | Veličina: torch.Size([768])\n",
            "Sloj: bert.encoder.layer.3.attention.self.query.weight | Veličina: torch.Size([768, 768])\n",
            "Sloj: bert.encoder.layer.3.attention.self.query.bias | Veličina: torch.Size([768])\n",
            "Sloj: bert.encoder.layer.3.attention.self.key.weight | Veličina: torch.Size([768, 768])\n",
            "Sloj: bert.encoder.layer.3.attention.self.key.bias | Veličina: torch.Size([768])\n",
            "Sloj: bert.encoder.layer.3.attention.self.value.weight | Veličina: torch.Size([768, 768])\n",
            "Sloj: bert.encoder.layer.3.attention.self.value.bias | Veličina: torch.Size([768])\n",
            "Sloj: bert.encoder.layer.3.attention.output.dense.weight | Veličina: torch.Size([768, 768])\n",
            "Sloj: bert.encoder.layer.3.attention.output.dense.bias | Veličina: torch.Size([768])\n",
            "Sloj: bert.encoder.layer.3.attention.output.LayerNorm.weight | Veličina: torch.Size([768])\n",
            "Sloj: bert.encoder.layer.3.attention.output.LayerNorm.bias | Veličina: torch.Size([768])\n",
            "Sloj: bert.encoder.layer.3.intermediate.dense.weight | Veličina: torch.Size([3072, 768])\n",
            "Sloj: bert.encoder.layer.3.intermediate.dense.bias | Veličina: torch.Size([3072])\n",
            "Sloj: bert.encoder.layer.3.output.dense.weight | Veličina: torch.Size([768, 3072])\n",
            "Sloj: bert.encoder.layer.3.output.dense.bias | Veličina: torch.Size([768])\n",
            "Sloj: bert.encoder.layer.3.output.LayerNorm.weight | Veličina: torch.Size([768])\n",
            "Sloj: bert.encoder.layer.3.output.LayerNorm.bias | Veličina: torch.Size([768])\n",
            "Sloj: bert.encoder.layer.4.attention.self.query.weight | Veličina: torch.Size([768, 768])\n",
            "Sloj: bert.encoder.layer.4.attention.self.query.bias | Veličina: torch.Size([768])\n",
            "Sloj: bert.encoder.layer.4.attention.self.key.weight | Veličina: torch.Size([768, 768])\n",
            "Sloj: bert.encoder.layer.4.attention.self.key.bias | Veličina: torch.Size([768])\n",
            "Sloj: bert.encoder.layer.4.attention.self.value.weight | Veličina: torch.Size([768, 768])\n",
            "Sloj: bert.encoder.layer.4.attention.self.value.bias | Veličina: torch.Size([768])\n",
            "Sloj: bert.encoder.layer.4.attention.output.dense.weight | Veličina: torch.Size([768, 768])\n",
            "Sloj: bert.encoder.layer.4.attention.output.dense.bias | Veličina: torch.Size([768])\n",
            "Sloj: bert.encoder.layer.4.attention.output.LayerNorm.weight | Veličina: torch.Size([768])\n",
            "Sloj: bert.encoder.layer.4.attention.output.LayerNorm.bias | Veličina: torch.Size([768])\n",
            "Sloj: bert.encoder.layer.4.intermediate.dense.weight | Veličina: torch.Size([3072, 768])\n",
            "Sloj: bert.encoder.layer.4.intermediate.dense.bias | Veličina: torch.Size([3072])\n",
            "Sloj: bert.encoder.layer.4.output.dense.weight | Veličina: torch.Size([768, 3072])\n",
            "Sloj: bert.encoder.layer.4.output.dense.bias | Veličina: torch.Size([768])\n",
            "Sloj: bert.encoder.layer.4.output.LayerNorm.weight | Veličina: torch.Size([768])\n",
            "Sloj: bert.encoder.layer.4.output.LayerNorm.bias | Veličina: torch.Size([768])\n",
            "Sloj: bert.encoder.layer.5.attention.self.query.weight | Veličina: torch.Size([768, 768])\n",
            "Sloj: bert.encoder.layer.5.attention.self.query.bias | Veličina: torch.Size([768])\n",
            "Sloj: bert.encoder.layer.5.attention.self.key.weight | Veličina: torch.Size([768, 768])\n",
            "Sloj: bert.encoder.layer.5.attention.self.key.bias | Veličina: torch.Size([768])\n",
            "Sloj: bert.encoder.layer.5.attention.self.value.weight | Veličina: torch.Size([768, 768])\n",
            "Sloj: bert.encoder.layer.5.attention.self.value.bias | Veličina: torch.Size([768])\n",
            "Sloj: bert.encoder.layer.5.attention.output.dense.weight | Veličina: torch.Size([768, 768])\n",
            "Sloj: bert.encoder.layer.5.attention.output.dense.bias | Veličina: torch.Size([768])\n",
            "Sloj: bert.encoder.layer.5.attention.output.LayerNorm.weight | Veličina: torch.Size([768])\n",
            "Sloj: bert.encoder.layer.5.attention.output.LayerNorm.bias | Veličina: torch.Size([768])\n",
            "Sloj: bert.encoder.layer.5.intermediate.dense.weight | Veličina: torch.Size([3072, 768])\n",
            "Sloj: bert.encoder.layer.5.intermediate.dense.bias | Veličina: torch.Size([3072])\n",
            "Sloj: bert.encoder.layer.5.output.dense.weight | Veličina: torch.Size([768, 3072])\n",
            "Sloj: bert.encoder.layer.5.output.dense.bias | Veličina: torch.Size([768])\n",
            "Sloj: bert.encoder.layer.5.output.LayerNorm.weight | Veličina: torch.Size([768])\n",
            "Sloj: bert.encoder.layer.5.output.LayerNorm.bias | Veličina: torch.Size([768])\n",
            "Sloj: bert.encoder.layer.6.attention.self.query.weight | Veličina: torch.Size([768, 768])\n",
            "Sloj: bert.encoder.layer.6.attention.self.query.bias | Veličina: torch.Size([768])\n",
            "Sloj: bert.encoder.layer.6.attention.self.key.weight | Veličina: torch.Size([768, 768])\n",
            "Sloj: bert.encoder.layer.6.attention.self.key.bias | Veličina: torch.Size([768])\n",
            "Sloj: bert.encoder.layer.6.attention.self.value.weight | Veličina: torch.Size([768, 768])\n",
            "Sloj: bert.encoder.layer.6.attention.self.value.bias | Veličina: torch.Size([768])\n",
            "Sloj: bert.encoder.layer.6.attention.output.dense.weight | Veličina: torch.Size([768, 768])\n",
            "Sloj: bert.encoder.layer.6.attention.output.dense.bias | Veličina: torch.Size([768])\n",
            "Sloj: bert.encoder.layer.6.attention.output.LayerNorm.weight | Veličina: torch.Size([768])\n",
            "Sloj: bert.encoder.layer.6.attention.output.LayerNorm.bias | Veličina: torch.Size([768])\n",
            "Sloj: bert.encoder.layer.6.intermediate.dense.weight | Veličina: torch.Size([3072, 768])\n",
            "Sloj: bert.encoder.layer.6.intermediate.dense.bias | Veličina: torch.Size([3072])\n",
            "Sloj: bert.encoder.layer.6.output.dense.weight | Veličina: torch.Size([768, 3072])\n",
            "Sloj: bert.encoder.layer.6.output.dense.bias | Veličina: torch.Size([768])\n",
            "Sloj: bert.encoder.layer.6.output.LayerNorm.weight | Veličina: torch.Size([768])\n",
            "Sloj: bert.encoder.layer.6.output.LayerNorm.bias | Veličina: torch.Size([768])\n",
            "Sloj: bert.encoder.layer.7.attention.self.query.weight | Veličina: torch.Size([768, 768])\n",
            "Sloj: bert.encoder.layer.7.attention.self.query.bias | Veličina: torch.Size([768])\n",
            "Sloj: bert.encoder.layer.7.attention.self.key.weight | Veličina: torch.Size([768, 768])\n",
            "Sloj: bert.encoder.layer.7.attention.self.key.bias | Veličina: torch.Size([768])\n",
            "Sloj: bert.encoder.layer.7.attention.self.value.weight | Veličina: torch.Size([768, 768])\n",
            "Sloj: bert.encoder.layer.7.attention.self.value.bias | Veličina: torch.Size([768])\n",
            "Sloj: bert.encoder.layer.7.attention.output.dense.weight | Veličina: torch.Size([768, 768])\n",
            "Sloj: bert.encoder.layer.7.attention.output.dense.bias | Veličina: torch.Size([768])\n",
            "Sloj: bert.encoder.layer.7.attention.output.LayerNorm.weight | Veličina: torch.Size([768])\n",
            "Sloj: bert.encoder.layer.7.attention.output.LayerNorm.bias | Veličina: torch.Size([768])\n",
            "Sloj: bert.encoder.layer.7.intermediate.dense.weight | Veličina: torch.Size([3072, 768])\n",
            "Sloj: bert.encoder.layer.7.intermediate.dense.bias | Veličina: torch.Size([3072])\n",
            "Sloj: bert.encoder.layer.7.output.dense.weight | Veličina: torch.Size([768, 3072])\n",
            "Sloj: bert.encoder.layer.7.output.dense.bias | Veličina: torch.Size([768])\n",
            "Sloj: bert.encoder.layer.7.output.LayerNorm.weight | Veličina: torch.Size([768])\n",
            "Sloj: bert.encoder.layer.7.output.LayerNorm.bias | Veličina: torch.Size([768])\n",
            "Sloj: bert.encoder.layer.8.attention.self.query.weight | Veličina: torch.Size([768, 768])\n",
            "Sloj: bert.encoder.layer.8.attention.self.query.bias | Veličina: torch.Size([768])\n",
            "Sloj: bert.encoder.layer.8.attention.self.key.weight | Veličina: torch.Size([768, 768])\n",
            "Sloj: bert.encoder.layer.8.attention.self.key.bias | Veličina: torch.Size([768])\n",
            "Sloj: bert.encoder.layer.8.attention.self.value.weight | Veličina: torch.Size([768, 768])\n",
            "Sloj: bert.encoder.layer.8.attention.self.value.bias | Veličina: torch.Size([768])\n",
            "Sloj: bert.encoder.layer.8.attention.output.dense.weight | Veličina: torch.Size([768, 768])\n",
            "Sloj: bert.encoder.layer.8.attention.output.dense.bias | Veličina: torch.Size([768])\n",
            "Sloj: bert.encoder.layer.8.attention.output.LayerNorm.weight | Veličina: torch.Size([768])\n",
            "Sloj: bert.encoder.layer.8.attention.output.LayerNorm.bias | Veličina: torch.Size([768])\n",
            "Sloj: bert.encoder.layer.8.intermediate.dense.weight | Veličina: torch.Size([3072, 768])\n",
            "Sloj: bert.encoder.layer.8.intermediate.dense.bias | Veličina: torch.Size([3072])\n",
            "Sloj: bert.encoder.layer.8.output.dense.weight | Veličina: torch.Size([768, 3072])\n",
            "Sloj: bert.encoder.layer.8.output.dense.bias | Veličina: torch.Size([768])\n",
            "Sloj: bert.encoder.layer.8.output.LayerNorm.weight | Veličina: torch.Size([768])\n",
            "Sloj: bert.encoder.layer.8.output.LayerNorm.bias | Veličina: torch.Size([768])\n",
            "Sloj: bert.encoder.layer.9.attention.self.query.weight | Veličina: torch.Size([768, 768])\n",
            "Sloj: bert.encoder.layer.9.attention.self.query.bias | Veličina: torch.Size([768])\n",
            "Sloj: bert.encoder.layer.9.attention.self.key.weight | Veličina: torch.Size([768, 768])\n",
            "Sloj: bert.encoder.layer.9.attention.self.key.bias | Veličina: torch.Size([768])\n",
            "Sloj: bert.encoder.layer.9.attention.self.value.weight | Veličina: torch.Size([768, 768])\n",
            "Sloj: bert.encoder.layer.9.attention.self.value.bias | Veličina: torch.Size([768])\n",
            "Sloj: bert.encoder.layer.9.attention.output.dense.weight | Veličina: torch.Size([768, 768])\n",
            "Sloj: bert.encoder.layer.9.attention.output.dense.bias | Veličina: torch.Size([768])\n",
            "Sloj: bert.encoder.layer.9.attention.output.LayerNorm.weight | Veličina: torch.Size([768])\n",
            "Sloj: bert.encoder.layer.9.attention.output.LayerNorm.bias | Veličina: torch.Size([768])\n",
            "Sloj: bert.encoder.layer.9.intermediate.dense.weight | Veličina: torch.Size([3072, 768])\n",
            "Sloj: bert.encoder.layer.9.intermediate.dense.bias | Veličina: torch.Size([3072])\n",
            "Sloj: bert.encoder.layer.9.output.dense.weight | Veličina: torch.Size([768, 3072])\n",
            "Sloj: bert.encoder.layer.9.output.dense.bias | Veličina: torch.Size([768])\n",
            "Sloj: bert.encoder.layer.9.output.LayerNorm.weight | Veličina: torch.Size([768])\n",
            "Sloj: bert.encoder.layer.9.output.LayerNorm.bias | Veličina: torch.Size([768])\n",
            "Sloj: bert.encoder.layer.10.attention.self.query.weight | Veličina: torch.Size([768, 768])\n",
            "Sloj: bert.encoder.layer.10.attention.self.query.bias | Veličina: torch.Size([768])\n",
            "Sloj: bert.encoder.layer.10.attention.self.key.weight | Veličina: torch.Size([768, 768])\n",
            "Sloj: bert.encoder.layer.10.attention.self.key.bias | Veličina: torch.Size([768])\n",
            "Sloj: bert.encoder.layer.10.attention.self.value.weight | Veličina: torch.Size([768, 768])\n",
            "Sloj: bert.encoder.layer.10.attention.self.value.bias | Veličina: torch.Size([768])\n",
            "Sloj: bert.encoder.layer.10.attention.output.dense.weight | Veličina: torch.Size([768, 768])\n",
            "Sloj: bert.encoder.layer.10.attention.output.dense.bias | Veličina: torch.Size([768])\n",
            "Sloj: bert.encoder.layer.10.attention.output.LayerNorm.weight | Veličina: torch.Size([768])\n",
            "Sloj: bert.encoder.layer.10.attention.output.LayerNorm.bias | Veličina: torch.Size([768])\n",
            "Sloj: bert.encoder.layer.10.intermediate.dense.weight | Veličina: torch.Size([3072, 768])\n",
            "Sloj: bert.encoder.layer.10.intermediate.dense.bias | Veličina: torch.Size([3072])\n",
            "Sloj: bert.encoder.layer.10.output.dense.weight | Veličina: torch.Size([768, 3072])\n",
            "Sloj: bert.encoder.layer.10.output.dense.bias | Veličina: torch.Size([768])\n",
            "Sloj: bert.encoder.layer.10.output.LayerNorm.weight | Veličina: torch.Size([768])\n",
            "Sloj: bert.encoder.layer.10.output.LayerNorm.bias | Veličina: torch.Size([768])\n",
            "Sloj: bert.encoder.layer.11.attention.self.query.weight | Veličina: torch.Size([768, 768])\n",
            "Sloj: bert.encoder.layer.11.attention.self.query.bias | Veličina: torch.Size([768])\n",
            "Sloj: bert.encoder.layer.11.attention.self.key.weight | Veličina: torch.Size([768, 768])\n",
            "Sloj: bert.encoder.layer.11.attention.self.key.bias | Veličina: torch.Size([768])\n",
            "Sloj: bert.encoder.layer.11.attention.self.value.weight | Veličina: torch.Size([768, 768])\n",
            "Sloj: bert.encoder.layer.11.attention.self.value.bias | Veličina: torch.Size([768])\n",
            "Sloj: bert.encoder.layer.11.attention.output.dense.weight | Veličina: torch.Size([768, 768])\n",
            "Sloj: bert.encoder.layer.11.attention.output.dense.bias | Veličina: torch.Size([768])\n",
            "Sloj: bert.encoder.layer.11.attention.output.LayerNorm.weight | Veličina: torch.Size([768])\n",
            "Sloj: bert.encoder.layer.11.attention.output.LayerNorm.bias | Veličina: torch.Size([768])\n",
            "Sloj: bert.encoder.layer.11.intermediate.dense.weight | Veličina: torch.Size([3072, 768])\n",
            "Sloj: bert.encoder.layer.11.intermediate.dense.bias | Veličina: torch.Size([3072])\n",
            "Sloj: bert.encoder.layer.11.output.dense.weight | Veličina: torch.Size([768, 3072])\n",
            "Sloj: bert.encoder.layer.11.output.dense.bias | Veličina: torch.Size([768])\n",
            "Sloj: bert.encoder.layer.11.output.LayerNorm.weight | Veličina: torch.Size([768])\n",
            "Sloj: bert.encoder.layer.11.output.LayerNorm.bias | Veličina: torch.Size([768])\n",
            "Sloj: bert.pooler.dense.weight | Veličina: torch.Size([768, 768])\n",
            "Sloj: bert.pooler.dense.bias | Veličina: torch.Size([768])\n",
            "Sloj: classifier.weight | Veličina: torch.Size([2, 768])\n",
            "Sloj: classifier.bias | Veličina: torch.Size([2])\n"
          ]
        }
      ]
    },
    {
      "cell_type": "code",
      "source": [
        "inverse_vocab_bertic = {}\n",
        "for token, token_id in list(bertic_tokenizer.vocab.items()):\n",
        "    inverse_vocab_bertic[token_id] = token\n",
        "\n",
        "\n",
        "for token, token_id in list(bertic_tokenizer.vocab.items())[:30]:\n",
        "    inverse_vocab_bertic[token_id] = token\n",
        "    print(\"ID tokena: \", token_id, \"token: \", token)"
      ],
      "metadata": {
        "colab": {
          "base_uri": "https://localhost:8080/"
        },
        "id": "gEH9FNo7Brq5",
        "outputId": "414c7eb1-196d-4772-e746-e5c4023674f0"
      },
      "execution_count": null,
      "outputs": [
        {
          "output_type": "stream",
          "name": "stdout",
          "text": [
            "ID tokena:  15658 token:  nezaposlenih\n",
            "ID tokena:  22480 token:  kupanje\n",
            "ID tokena:  31845 token:  mogucnosti\n",
            "ID tokena:  7213 token:  osvaja\n",
            "ID tokena:  1751 token:  ##☎\n",
            "ID tokena:  19457 token:  snimio\n",
            "ID tokena:  13830 token:  muče\n",
            "ID tokena:  392 token:  ω\n",
            "ID tokena:  15196 token:  tlo\n",
            "ID tokena:  18553 token:  Gospe\n",
            "ID tokena:  27205 token:  Dodatne\n",
            "ID tokena:  17236 token:  uklapa\n",
            "ID tokena:  5684 token:  širo\n",
            "ID tokena:  19300 token:  Koristimo\n",
            "ID tokena:  31831 token:  talento\n",
            "ID tokena:  4450 token:  moze\n",
            "ID tokena:  9150 token:  ##noda\n",
            "ID tokena:  16951 token:  zanimanje\n",
            "ID tokena:  1402 token:  ##Σ\n",
            "ID tokena:  4837 token:  ##LO\n",
            "ID tokena:  14112 token:  poslednji\n",
            "ID tokena:  27930 token:  ##ama\n",
            "ID tokena:  20146 token:  ##EE\n",
            "ID tokena:  30064 token:  nezvani\n",
            "ID tokena:  28457 token:  prisustvovati\n",
            "ID tokena:  1883 token:  ##➖\n",
            "ID tokena:  5341 token:  zastup\n",
            "ID tokena:  11715 token:  pasti\n",
            "ID tokena:  16845 token:  Prošle\n",
            "ID tokena:  20976 token:  ##ljivanja\n"
          ]
        }
      ]
    },
    {
      "cell_type": "code",
      "source": [
        "for index in range(30):\n",
        "  print(f\"Token: {inverse_vocab_bertic[index]}, ID: {index}\")\n",
        "\n",
        "for index in range(2130, 2160):\n",
        "  print(f\"Token: {inverse_vocab_bertic[index]}, ID: {index}\")"
      ],
      "metadata": {
        "colab": {
          "base_uri": "https://localhost:8080/"
        },
        "id": "m5DoYtBeBZ-S",
        "outputId": "38c19003-814c-46b2-f8ca-35cd27c88ab9"
      },
      "execution_count": null,
      "outputs": [
        {
          "output_type": "stream",
          "name": "stdout",
          "text": [
            "Token: [PAD], ID: 0\n",
            "Token: [UNK], ID: 1\n",
            "Token: [CLS], ID: 2\n",
            "Token: [SEP], ID: 3\n",
            "Token: [MASK], ID: 4\n",
            "Token: !, ID: 5\n",
            "Token: \", ID: 6\n",
            "Token: #, ID: 7\n",
            "Token: $, ID: 8\n",
            "Token: %, ID: 9\n",
            "Token: &, ID: 10\n",
            "Token: ', ID: 11\n",
            "Token: (, ID: 12\n",
            "Token: ), ID: 13\n",
            "Token: *, ID: 14\n",
            "Token: +, ID: 15\n",
            "Token: ,, ID: 16\n",
            "Token: -, ID: 17\n",
            "Token: ., ID: 18\n",
            "Token: /, ID: 19\n",
            "Token: 0, ID: 20\n",
            "Token: 1, ID: 21\n",
            "Token: 2, ID: 22\n",
            "Token: 3, ID: 23\n",
            "Token: 4, ID: 24\n",
            "Token: 5, ID: 25\n",
            "Token: 6, ID: 26\n",
            "Token: 7, ID: 27\n",
            "Token: 8, ID: 28\n",
            "Token: 9, ID: 29\n",
            "Token: 201, ID: 2130\n",
            "Token: ##đu, ID: 2131\n",
            "Token: ##zo, ID: 2132\n",
            "Token: godine, ID: 2133\n",
            "Token: ##zu, ID: 2134\n",
            "Token: ##nta, ID: 2135\n",
            "Token: be, ID: 2136\n",
            "Token: može, ID: 2137\n",
            "Token: us, ID: 2138\n",
            "Token: ##đa, ID: 2139\n",
            "Token: ##sno, ID: 2140\n",
            "Token: ##zna, ID: 2141\n",
            "Token: ##liko, ID: 2142\n",
            "Token: stra, ID: 2143\n",
            "Token: Sa, ID: 2144\n",
            "Token: ##tni, ID: 2145\n",
            "Token: ##skog, ID: 2146\n",
            "Token: ##bu, ID: 2147\n",
            "Token: lju, ID: 2148\n",
            "Token: ##šta, ID: 2149\n",
            "Token: ##ha, ID: 2150\n",
            "Token: ##čki, ID: 2151\n",
            "Token: koja, ID: 2152\n",
            "Token: ##gle, ID: 2153\n",
            "Token: ##pre, ID: 2154\n",
            "Token: dana, ID: 2155\n",
            "Token: Ko, ID: 2156\n",
            "Token: ##oj, ID: 2157\n",
            "Token: ži, ID: 2158\n",
            "Token: ##govo, ID: 2159\n"
          ]
        }
      ]
    },
    {
      "cell_type": "code",
      "source": [
        "print(\"Length: \", len(bertic_tokenizer.vocab.items()))"
      ],
      "metadata": {
        "colab": {
          "base_uri": "https://localhost:8080/"
        },
        "id": "ySFGNHi5_E8m",
        "outputId": "25b92c91-b641-4196-f0c2-8fd8254ce6f3"
      },
      "execution_count": null,
      "outputs": [
        {
          "output_type": "stream",
          "name": "stdout",
          "text": [
            "Length:  32000\n"
          ]
        }
      ]
    },
    {
      "cell_type": "code",
      "source": [
        "text = \"šumarstvo\"\n",
        "\n",
        "# Tokenizacija teksta\n",
        "tokens_bertic = bertic_tokenizer.tokenize(text)\n",
        "token_ids_bertic = bertic_tokenizer.convert_tokens_to_ids(tokens_bertic)\n",
        "\n",
        "print(f\"Originalni tekst: {text}\")\n",
        "print(bertic_model_checkpoint)\n",
        "print(f\"Tokeni: {tokens_bertic}\")\n",
        "print(f\"Tokeni (kao ID-ovi): {token_ids_bertic}\")\n",
        "\n",
        "# Tokenizacija teksta\n",
        "tokens_base = base_tokenizer.tokenize(text)\n",
        "token_ids_base = base_tokenizer.convert_tokens_to_ids(tokens_base)\n",
        "\n",
        "print(base_model_checkpoint)\n",
        "print(f\"Tokeni: {tokens_base}\")\n",
        "print(f\"Tokeni (kao ID-ovi): {token_ids_base}\")"
      ],
      "metadata": {
        "id": "wpG77SFzFvI3",
        "colab": {
          "base_uri": "https://localhost:8080/"
        },
        "outputId": "37bcd96c-9b08-4745-8062-61b473890585"
      },
      "execution_count": null,
      "outputs": [
        {
          "output_type": "stream",
          "name": "stdout",
          "text": [
            "Originalni tekst: šumarstvo\n",
            "classla/bcms-bertic\n",
            "Tokeni: ['šuma', '##rstvo']\n",
            "Tokeni (kao ID-ovi): [7434, 11446]\n",
            "bert-base-uncased\n",
            "Tokeni: ['sum', '##ars', '##tv', '##o']\n",
            "Tokeni (kao ID-ovi): [7680, 11650, 9189, 2080]\n"
          ]
        }
      ]
    },
    {
      "cell_type": "code",
      "source": [
        "text = \"uzvratiti\"\n",
        "\n",
        "# Tokenizacija teksta\n",
        "tokens_bertic = bertic_tokenizer.tokenize(text)\n",
        "token_ids_bertic = bertic_tokenizer.convert_tokens_to_ids(tokens_bertic)\n",
        "\n",
        "print(f\"Originalni tekst: {text}\")\n",
        "print(bertic_model_checkpoint)\n",
        "print(f\"Tokeni: {tokens_bertic}\")\n",
        "print(f\"Tokeni (kao ID-ovi): {token_ids_bertic}\")\n",
        "\n",
        "# Tokenizacija teksta\n",
        "tokens_base = base_tokenizer.tokenize(text)\n",
        "token_ids_base = base_tokenizer.convert_tokens_to_ids(tokens_base)\n",
        "\n",
        "print(base_model_checkpoint)\n",
        "print(f\"Tokeni: {tokens_base}\")\n",
        "print(f\"Tokeni (kao ID-ovi): {token_ids_base}\")"
      ],
      "metadata": {
        "colab": {
          "base_uri": "https://localhost:8080/"
        },
        "id": "eXWm0CrW2BQe",
        "outputId": "3b57f9b4-9582-4251-a963-fa90df6da9e4"
      },
      "execution_count": null,
      "outputs": [
        {
          "output_type": "stream",
          "name": "stdout",
          "text": [
            "Originalni tekst: uzvratiti\n",
            "classla/bcms-bertic\n",
            "Tokeni: ['uzvrati', '##ti']\n",
            "Tokeni (kao ID-ovi): [21020, 1916]\n",
            "bert-base-uncased\n",
            "Tokeni: ['u', '##z', '##vr', '##ati', '##ti']\n",
            "Tokeni (kao ID-ovi): [1057, 2480, 19716, 10450, 3775]\n"
          ]
        }
      ]
    },
    {
      "cell_type": "code",
      "source": [
        "text = \"vrati\"\n",
        "\n",
        "# Tokenizacija teksta\n",
        "tokens_bertic = bertic_tokenizer.tokenize(text)\n",
        "token_ids_bertic = bertic_tokenizer.convert_tokens_to_ids(tokens_bertic)\n",
        "\n",
        "print(f\"Originalni tekst: {text}\")\n",
        "print(bertic_model_checkpoint)\n",
        "print(f\"Tokeni: {tokens_bertic}\")\n",
        "print(f\"Tokeni (kao ID-ovi): {token_ids_bertic}\")\n",
        "\n",
        "# Tokenizacija teksta\n",
        "tokens_base = base_tokenizer.tokenize(text)\n",
        "token_ids_base = base_tokenizer.convert_tokens_to_ids(tokens_base)\n",
        "\n",
        "print(base_model_checkpoint)\n",
        "print(f\"Tokeni: {tokens_base}\")\n",
        "print(f\"Tokeni (kao ID-ovi): {token_ids_base}\")"
      ],
      "metadata": {
        "colab": {
          "base_uri": "https://localhost:8080/"
        },
        "id": "Atftjaw72ckn",
        "outputId": "26902361-7547-4fd7-c6d1-b8906b4b97c4"
      },
      "execution_count": null,
      "outputs": [
        {
          "output_type": "stream",
          "name": "stdout",
          "text": [
            "Originalni tekst: vrati\n",
            "classla/bcms-bertic\n",
            "Tokeni: ['vrati']\n",
            "Tokeni (kao ID-ovi): [3317]\n",
            "bert-base-uncased\n",
            "Tokeni: ['vr', '##ati']\n",
            "Tokeni (kao ID-ovi): [27830, 10450]\n"
          ]
        }
      ]
    },
    {
      "cell_type": "code",
      "source": [
        "text = \"vrata\"\n",
        "\n",
        "# Tokenizacija teksta\n",
        "tokens_bertic = bertic_tokenizer.tokenize(text)\n",
        "token_ids_bertic = bertic_tokenizer.convert_tokens_to_ids(tokens_bertic)\n",
        "\n",
        "print(f\"Originalni tekst: {text}\")\n",
        "print(bertic_model_checkpoint)\n",
        "print(f\"Tokeni: {tokens_bertic}\")\n",
        "print(f\"Tokeni (kao ID-ovi): {token_ids_bertic}\")\n",
        "\n",
        "# Tokenizacija teksta\n",
        "tokens_base = base_tokenizer.tokenize(text)\n",
        "token_ids_base = base_tokenizer.convert_tokens_to_ids(tokens_base)\n",
        "\n",
        "print(base_model_checkpoint)\n",
        "print(f\"Tokeni: {tokens_base}\")\n",
        "print(f\"Tokeni (kao ID-ovi): {token_ids_base}\")"
      ],
      "metadata": {
        "colab": {
          "base_uri": "https://localhost:8080/"
        },
        "id": "DqF7Wku23Qeu",
        "outputId": "3985f25a-8c53-4768-e66d-48e5d2cff1fc"
      },
      "execution_count": null,
      "outputs": [
        {
          "output_type": "stream",
          "name": "stdout",
          "text": [
            "Originalni tekst: vrata\n",
            "classla/bcms-bertic\n",
            "Tokeni: ['vrata']\n",
            "Tokeni (kao ID-ovi): [4449]\n",
            "bert-base-uncased\n",
            "Tokeni: ['vr', '##ata']\n",
            "Tokeni (kao ID-ovi): [27830, 6790]\n"
          ]
        }
      ]
    },
    {
      "cell_type": "code",
      "source": [
        "text = \"mačka\"\n",
        "\n",
        "# Tokenizacija teksta\n",
        "tokens_bertic = bertic_tokenizer.tokenize(text)\n",
        "token_ids_bertic = bertic_tokenizer.convert_tokens_to_ids(tokens_bertic)\n",
        "\n",
        "print(f\"Originalni tekst: {text}\")\n",
        "print(bertic_model_checkpoint)\n",
        "print(f\"Tokeni: {tokens_bertic}\")\n",
        "print(f\"Tokeni (kao ID-ovi): {token_ids_bertic}\")\n",
        "\n",
        "# Tokenizacija teksta\n",
        "tokens_base = base_tokenizer.tokenize(text)\n",
        "token_ids_base = base_tokenizer.convert_tokens_to_ids(tokens_base)\n",
        "\n",
        "print(base_model_checkpoint)\n",
        "print(f\"Tokeni: {tokens_base}\")\n",
        "print(f\"Tokeni (kao ID-ovi): {token_ids_base}\")"
      ],
      "metadata": {
        "colab": {
          "base_uri": "https://localhost:8080/"
        },
        "id": "Zy7B2bXq3vI-",
        "outputId": "589dd564-ab0c-4366-f576-46f8a28e422e"
      },
      "execution_count": null,
      "outputs": [
        {
          "output_type": "stream",
          "name": "stdout",
          "text": [
            "Originalni tekst: mačka\n",
            "classla/bcms-bertic\n",
            "Tokeni: ['mačka']\n",
            "Tokeni (kao ID-ovi): [22314]\n",
            "bert-base-uncased\n",
            "Tokeni: ['mack', '##a']\n",
            "Tokeni (kao ID-ovi): [11349, 2050]\n"
          ]
        }
      ]
    },
    {
      "cell_type": "code",
      "source": [],
      "metadata": {
        "id": "lI9oQIea-MSA"
      },
      "execution_count": null,
      "outputs": []
    }
  ]
}